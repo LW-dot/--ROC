{
 "cells": [
  {
   "cell_type": "code",
   "execution_count": 8,
   "id": "e8ce03e6-ea79-4843-b8f2-2f1123d0a94c",
   "metadata": {},
   "outputs": [],
   "source": [
    "import os\n",
    "from zhipuai import ZhipuAI\n",
    "import base64\n",
    "\n",
    "os.environ[\"ZHIPUAI_API_KEY\"] = \"a9578bfc6ecc22a43d9dcfb5ce12fac3.rTrm4avWD5NEYYva\"\n",
    "\n",
    "client =  ZhipuAI()"
   ]
  },
  {
   "cell_type": "code",
   "execution_count": 9,
   "id": "a381e084-5dda-4fa2-9fdd-c1fc00e29d15",
   "metadata": {},
   "outputs": [
    {
     "name": "stdout",
     "output_type": "stream",
     "text": [
      "通常来说，视频理解的响应时间较长，需要等待数十秒......\n",
      "CompletionMessage(content='好的,让我来为你描述一下这个场景。\\n\\n在这个视频中,我们看到一个穿着白色夹克和黑色裤子的男子站在舞台上。他手里拿着一个麦克风,似乎正在唱歌或说话。舞台周围有一些灯光,营造出一种表演的氛围。\\n\\n然而,有些奇怪的是,他的头上似乎有一束光在照射着他。这可能是为了增加视觉效果而设计的,但这也可能意味着他在进行某种神秘的仪式或魔法表演。\\n\\n此外,我们还可以看到背景中有一个模糊的人影。这可能是一个观众成员,也可能是乐队成员或其他表演者。无论如何,他们似乎都在关注着舞台上的男子。\\n\\n总的来说,这个视频似乎展示了一个男子在舞台上表演,可能是在唱歌或说话。周围的灯光和视觉效果为整个表演增添了一些神秘感。', role='assistant', tool_calls=None)\n"
     ]
    }
   ],
   "source": [
    "video_path = \"v.mp4\"\n",
    "with open(video_path, 'rb') as video_file:\n",
    "     video_base = base64.b64encode(video_file.read()).decode('utf-8') \n",
    "\n",
    "print(\"通常来说，视频理解的响应时间较长，需要等待数十秒......\")\n",
    "\n",
    "response = client.chat.completions.create(\n",
    "   model=\"glm-4v-plus\",\n",
    "   temperature=0.0,\n",
    "   top_p=0,\n",
    "\n",
    "   messages=[{\n",
    "      \"role\":\"user\",\n",
    "      \"content\":[{\n",
    "         \"type\":\"video_url\",\n",
    "         \"video_url\" : {\"url\" : video_base}\n",
    "      },{\n",
    "      \"type\":\"text\",\n",
    "      \"text\":\"请仔细描述这个视频的环境，图中的歌手张杰在干啥，以有趣的方式讲给我听\"\n",
    "      }]\n",
    "   }])\n",
    "print(response.choices[0].message)"
   ]
  },
  {
   "cell_type": "code",
   "execution_count": null,
   "id": "5dc0b8ff-4c73-4f7a-8b54-de8eeda73dd0",
   "metadata": {},
   "outputs": [],
   "source": []
  }
 ],
 "metadata": {
  "kernelspec": {
   "display_name": "Python 3 (ipykernel)",
   "language": "python",
   "name": "python3"
  },
  "language_info": {
   "codemirror_mode": {
    "name": "ipython",
    "version": 3
   },
   "file_extension": ".py",
   "mimetype": "text/x-python",
   "name": "python",
   "nbconvert_exporter": "python",
   "pygments_lexer": "ipython3",
   "version": "3.10.10"
  }
 },
 "nbformat": 4,
 "nbformat_minor": 5
}
